{
 "cells": [
  {
   "cell_type": "markdown",
   "id": "8337c8d0",
   "metadata": {},
   "source": [
    "ProjectTwo"
   ]
  },
  {
   "cell_type": "markdown",
   "id": "679a5294",
   "metadata": {},
   "source": [
    "Some of the popular languages that Data Scientists use are:\n",
    "\n",
    "Python.\n",
    "R.\n",
    "SQL.\n",
    "Java.\n",
    "Julia.\n",
    "Scala.\n",
    "C/C++.\n",
    "JavaScript.\n",
    "\n",
    "\n",
    "Some of the commonly used libraries used by Data Scientists include:\n",
    "\n",
    "TensorFlow.\n",
    "NumPy.\n",
    "SciPy.\n",
    "Pandas.\n",
    "Matplotlib.\n",
    "Keras.\n",
    "SciKit-Learn.\n",
    "PyTorch.\n",
    "Scrapy.\n",
    "BeautifulSoup.\n",
    "LightGBM.\n",
    "ELI5.\n",
    "Theano.\n",
    "NuPIC.\n",
    "Ramp.\n",
    "Pipenv.\n",
    "Bob.\n",
    "PyBrain.\n"
   ]
  },
  {
   "cell_type": "markdown",
   "id": "a5c68afc",
   "metadata": {},
   "source": [
    "Some of the popular languages that Data Scientists use are:\n",
    "\n",
    "1:-Python.\n",
    "2:-R.\n",
    "3:-SQL.\n",
    "4:-Java.\n",
    "5:-Julia.\n",
    "6:-Scala.\n",
    "7:-C/C++.\n",
    "8:-JavaScript."
   ]
  },
  {
   "cell_type": "markdown",
   "id": "75eb2fe0",
   "metadata": {},
   "source": [
    "# OBJECTIVE\n",
    "\n",
    "IS TO LEARN DATA SCIENCE TOOLS "
   ]
  },
  {
   "cell_type": "markdown",
   "id": "e31d3192",
   "metadata": {},
   "source": [
    "\n",
    "Some of the commonly used libraries used by Data Scientists include:\n",
    "\n",
    "TensorFlow.\n",
    "NumPy.\n",
    "SciPy.\n",
    "Pandas.\n",
    "Matplotlib.\n",
    "Keras.\n",
    "SciKit-Learn.\n",
    "PyTorch.\n",
    "Scrapy.\n",
    "BeautifulSoup.\n",
    "LightGBM.\n",
    "ELI5.\n",
    "Theano.\n",
    "NuPIC.\n",
    "Ramp.\n",
    "Pipenv.\n",
    "Bob.\n",
    "PyBrain.\n",
    "Caffe2.\n",
    "Chainer.\n",
    "\n",
    "\n",
    "\n",
    "\n",
    "\n",
    "\n",
    "\n"
   ]
  },
  {
   "cell_type": "markdown",
   "id": "8a3d1461",
   "metadata": {},
   "source": [
    "Data Science Tools:\n",
    "\n",
    "\t\t\n",
    "1:-SAS. It is one of those data science tools which are specifically designed for statistical operation\t\t\n",
    "2:-Apache Spark\t\t\n",
    "3:-BigML"
   ]
  },
  {
   "cell_type": "markdown",
   "id": "ed89b6b5",
   "metadata": {},
   "source": [
    "\n",
    "code = compile(\"5 + 1\", \"<string>\", \"eval\")\n",
    "eval(code)\n",
    "# Result: 6"
   ]
  },
  {
   "cell_type": "code",
   "execution_count": 2,
   "id": "35805281",
   "metadata": {},
   "outputs": [
    {
     "data": {
      "text/plain": [
       "176"
      ]
     },
     "execution_count": 2,
     "metadata": {},
     "output_type": "execute_result"
    }
   ],
   "source": [
    "(25*7)+1"
   ]
  },
  {
   "cell_type": "code",
   "execution_count": 3,
   "id": "a99afa62",
   "metadata": {},
   "outputs": [
    {
     "name": "stdout",
     "output_type": "stream",
     "text": [
      "0 days, 3.3333333333333335 hours, 0 mins. \n"
     ]
    }
   ],
   "source": [
    "days = 0\n",
    "hours = 0\n",
    "mins = 0\n",
    "\n",
    "time = 200\n",
    "#days = time / 1440\n",
    "leftover_minutes = time % 1440\n",
    "hours = leftover_minutes / 60\n",
    "#mins = time - (days*1440) - (hours*60)\n",
    "print(str(days) + \" days, \" + str(hours) + \" hours, \" + str(mins) +  \" mins. \")\n"
   ]
  },
  {
   "cell_type": "markdown",
   "id": "958f102c",
   "metadata": {},
   "source": [
    "AUTHORE:-\n",
    "\n",
    "KAUSHIK PATIL"
   ]
  }
 ],
 "metadata": {
  "kernelspec": {
   "display_name": "Python 3 (ipykernel)",
   "language": "python",
   "name": "python3"
  },
  "language_info": {
   "codemirror_mode": {
    "name": "ipython",
    "version": 3
   },
   "file_extension": ".py",
   "mimetype": "text/x-python",
   "name": "python",
   "nbconvert_exporter": "python",
   "pygments_lexer": "ipython3",
   "version": "3.10.5"
  }
 },
 "nbformat": 4,
 "nbformat_minor": 5
}
